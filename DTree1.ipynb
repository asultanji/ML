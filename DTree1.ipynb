{
 "cells": [
  {
   "cell_type": "markdown",
   "metadata": {},
   "source": [
    "## Decision Tree Sample\n",
    "\n",
    "This is the sample data for the decision tree\n",
    "\n",
    "https://github.com/vincentarelbundock/Rdatasets\n",
    "\n",
    "https://vincentarelbundock.github.io/Rdatasets/datasets.html\n",
    "\n",
    "https://github.com/bensadeghi/DecisionTree.jl\n",
    "\n",
    "### Classification Example\n",
    "\n",
    "#### Load RDatasets and DecisionTree packages"
   ]
  },
  {
   "cell_type": "code",
   "execution_count": 33,
   "metadata": {},
   "outputs": [
    {
     "name": "stderr",
     "output_type": "stream",
     "text": [
      "\u001b[1m\u001b[36mINFO: \u001b[39m\u001b[22m\u001b[36mPackage DecisionTree is already installed\n",
      "\u001b[39m\u001b[1m\u001b[36mINFO: \u001b[39m\u001b[22m\u001b[36mMETADATA is out-of-date — you may not have the latest version of DecisionTree\n",
      "\u001b[39m\u001b[1m\u001b[36mINFO: \u001b[39m\u001b[22m\u001b[36mUse `Pkg.update()` to get the latest versions of your packages\n",
      "\u001b[39m\u001b[1m\u001b[36mINFO: \u001b[39m\u001b[22m\u001b[36mPackage RDatasets is already installed\n",
      "\u001b[39m\u001b[1m\u001b[36mINFO: \u001b[39m\u001b[22m\u001b[36mMETADATA is out-of-date — you may not have the latest version of RDatasets\n",
      "\u001b[39m\u001b[1m\u001b[36mINFO: \u001b[39m\u001b[22m\u001b[36mUse `Pkg.update()` to get the latest versions of your packages\n",
      "\u001b[39m"
     ]
    }
   ],
   "source": [
    "Pkg.add(\"DecisionTree\")\n",
    "Pkg.add(\"RDatasets\")"
   ]
  },
  {
   "cell_type": "code",
   "execution_count": 34,
   "metadata": {
    "collapsed": true
   },
   "outputs": [],
   "source": [
    "using DecisionTree\n",
    "using RDatasets"
   ]
  },
  {
   "cell_type": "markdown",
   "metadata": {},
   "source": [
    "### Separate Fisher's Iris dataset features and labels"
   ]
  },
  {
   "cell_type": "code",
   "execution_count": 35,
   "metadata": {
    "collapsed": true
   },
   "outputs": [],
   "source": [
    "iris = dataset(\"datasets\", \"iris\")\n",
    "features = convert(Array, iris[:, 1:4]);\n",
    "labels = convert(Array, iris[:, 5]);"
   ]
  },
  {
   "cell_type": "markdown",
   "metadata": {},
   "source": [
    "### Pruned Tree Classifier"
   ]
  },
  {
   "cell_type": "code",
   "execution_count": 36,
   "metadata": {},
   "outputs": [
    {
     "data": {
      "text/plain": [
       "3×3 Array{Int64,2}:\n",
       " 14   0   0\n",
       "  0  19   0\n",
       "  0   2  15"
      ]
     },
     "metadata": {},
     "output_type": "display_data"
    },
    {
     "data": {
      "text/plain": [
       "3×3 Array{Int64,2}:\n",
       " 18   0   0\n",
       "  1  15   1\n",
       "  0   1  14"
      ]
     },
     "metadata": {},
     "output_type": "display_data"
    },
    {
     "data": {
      "text/plain": [
       "3×3 Array{Int64,2}:\n",
       " 18   0   0\n",
       "  0  12   2\n",
       "  0   0  18"
      ]
     },
     "metadata": {},
     "output_type": "display_data"
    },
    {
     "name": "stdout",
     "output_type": "stream",
     "text": [
      "Feature 3, Threshold 3.0\n",
      "L-> setosa : 50/50\n",
      "R-> Feature 4, Threshold 1.8\n",
      "    L-> Feature 3, Threshold 5.0\n",
      "        L-> versicolor : 47/48\n",
      "        R-> Feature 4, Threshold 1.6\n",
      "            L-> virginica : 3/3\n",
      "            R-> Feature 1, Threshold 7.2\n",
      "                L-> versicolor : 2/2\n",
      "                R-> virginica : 1/1\n",
      "    R-> Feature 3, Threshold 4.9\n",
      "        L-> Feature 1, Threshold 6.0\n",
      "            L-> versicolor : 1/1\n",
      "            R-> virginica : 2/2\n",
      "        R-> virginica : 43/43\n",
      "\n",
      "Fold 1\n",
      "Classes:  String[\"setosa\", \"versicolor\", \"virginica\"]\n",
      "Matrix:   \n",
      "Accuracy: 0.96\n",
      "Kappa:    0.9393939393939393\n",
      "\n",
      "Fold 2\n",
      "Classes:  String[\"setosa\", \"versicolor\", \"virginica\"]\n",
      "Matrix:   \n",
      "Accuracy: 0.94\n",
      "Kappa:    0.9096929560505719\n",
      "\n",
      "Fold 3\n",
      "Classes:  String[\"setosa\", \"versicolor\", \"virginica\"]\n",
      "Matrix:   \n",
      "Accuracy: 0.96\n",
      "Kappa:    0.9393203883495145\n",
      "\n",
      "Mean Accuracy: 0.9533333333333333\n"
     ]
    },
    {
     "data": {
      "text/plain": [
       "3-element Array{Float64,1}:\n",
       " 0.96\n",
       " 0.94\n",
       " 0.96"
      ]
     },
     "execution_count": 36,
     "metadata": {},
     "output_type": "execute_result"
    }
   ],
   "source": [
    "# train full-tree classifier\n",
    "model = build_tree(labels, features)\n",
    "# prune tree: merge leaves having >= 90% combined purity (default: 100%)\n",
    "model = prune_tree(model, 0.9)\n",
    "# pretty print of the tree, to a depth of 5 nodes (optional)\n",
    "print_tree(model, 9)\n",
    "# apply learned model\n",
    "apply_tree(model, [5.9,3.0,5.1,1.9])\n",
    "# get the probability of each label\n",
    "apply_tree_proba(model, [5.9,3.0,5.1,1.9], [\"setosa\", \"versicolor\", \"virginica\"])\n",
    "# run n-fold cross validation for pruned tree,\n",
    "# using 90% purity threshold pruning, and 3 CV folds\n",
    "accuracy = nfoldCV_tree(labels, features, 0.9, 3)"
   ]
  },
  {
   "cell_type": "markdown",
   "metadata": {},
   "source": [
    "### Random Forest Classifier"
   ]
  },
  {
   "cell_type": "code",
   "execution_count": 37,
   "metadata": {},
   "outputs": [
    {
     "data": {
      "text/plain": [
       "3×3 Array{Int64,2}:\n",
       " 13   0   0\n",
       "  0  17   0\n",
       "  0   4  16"
      ]
     },
     "metadata": {},
     "output_type": "display_data"
    },
    {
     "data": {
      "text/plain": [
       "3×3 Array{Int64,2}:\n",
       " 20   0   0\n",
       "  0  13   2\n",
       "  0   0  15"
      ]
     },
     "metadata": {},
     "output_type": "display_data"
    },
    {
     "data": {
      "text/plain": [
       "3×3 Array{Int64,2}:\n",
       " 17   0   0\n",
       "  1  16   1\n",
       "  0   2  13"
      ]
     },
     "metadata": {},
     "output_type": "display_data"
    },
    {
     "name": "stdout",
     "output_type": "stream",
     "text": [
      "\n",
      "Fold 1\n",
      "Classes:  String[\"setosa\", \"versicolor\", \"virginica\"]\n",
      "Matrix:   \n",
      "Accuracy: 0.92\n",
      "Kappa:    0.8790810157194682\n",
      "\n",
      "Fold 2\n",
      "Classes:  String[\"setosa\", \"versicolor\", \"virginica\"]\n",
      "Matrix:   \n",
      "Accuracy: 0.96\n",
      "Kappa:    0.9393939393939393\n",
      "\n",
      "Fold 3\n",
      "Classes:  String[\"setosa\", \"versicolor\", \"virginica\"]\n",
      "Matrix:   \n",
      "Accuracy: 0.92\n",
      "Kappa:    0.8795180722891568\n",
      "\n",
      "Mean Accuracy: 0.9333333333333332\n"
     ]
    },
    {
     "data": {
      "text/plain": [
       "3-element Array{Float64,1}:\n",
       " 0.92\n",
       " 0.96\n",
       " 0.92"
      ]
     },
     "execution_count": 37,
     "metadata": {},
     "output_type": "execute_result"
    }
   ],
   "source": [
    "# train random forest classifier\n",
    "# using 2 random features, 10 trees, 0.5 portion of samples per tree (optional), and a maximum tree depth of 6 (optional)\n",
    "model = build_forest(labels, features, 2, 10, 0.5, 9)\n",
    "# apply learned model\n",
    "apply_forest(model, [5.9,3.0,5.1,1.9])\n",
    "# get the probability of each label\n",
    "xy = apply_forest_proba(model, [5.9,3.0,5.1,1.9], [\"setosa\", \"versicolor\", \"virginica\"])\n",
    "# run n-fold cross validation for forests\n",
    "# using 2 random features, 10 trees, 3 folds and 0.5 of samples per tree (optional)\n",
    "accuracy = nfoldCV_forest(labels, features, 2, 10, 3, 0.5)"
   ]
  },
  {
   "cell_type": "code",
   "execution_count": 44,
   "metadata": {},
   "outputs": [
    {
     "name": "stdout",
     "output_type": "stream",
     "text": [
      "[0.0, 0.0, 1.0]"
     ]
    }
   ],
   "source": [
    "show(xy)"
   ]
  },
  {
   "cell_type": "markdown",
   "metadata": {},
   "source": [
    "### Adaptive-Boosted Decision Stumps Classifier"
   ]
  },
  {
   "cell_type": "code",
   "execution_count": 39,
   "metadata": {},
   "outputs": [
    {
     "data": {
      "text/plain": [
       "3×3 Array{Int64,2}:\n",
       " 14   5   0\n",
       "  0  12   5\n",
       "  0   3  11"
      ]
     },
     "metadata": {},
     "output_type": "display_data"
    },
    {
     "name": "stdout",
     "output_type": "stream",
     "text": [
      "\n",
      "Fold 1\n",
      "Classes:  String[\"setosa\", \"versicolor\", \"virginica\"]\n",
      "Matrix:   \n",
      "Accuracy: 0.74\n",
      "Kappa:    0.6107784431137725\n",
      "\n",
      "Fold "
     ]
    },
    {
     "data": {
      "text/plain": [
       "3×3 Array{Int64,2}:\n",
       " 16   0   0\n",
       "  0  14   2\n",
       "  0   3  15"
      ]
     },
     "metadata": {},
     "output_type": "display_data"
    },
    {
     "name": "stdout",
     "output_type": "stream",
     "text": [
      "2\n",
      "Classes:  String[\"setosa\", \"versicolor\", \"virginica\"]\n",
      "Matrix:   \n",
      "Accuracy: 0.9\n",
      "Kappa:    0.8499399759903962\n",
      "\n",
      "Fold 3\n"
     ]
    },
    {
     "data": {
      "text/plain": [
       "3×3 Array{Int64,2}:\n",
       " 15  0   0\n",
       "  4  0  13\n",
       "  0  0  18"
      ]
     },
     "metadata": {},
     "output_type": "display_data"
    },
    {
     "name": "stdout",
     "output_type": "stream",
     "text": [
      "Classes:  String[\"setosa\", \"versicolor\", \"virginica\"]\n",
      "Matrix:   \n",
      "Accuracy: 0.66\n",
      "Kappa:    0.48702474351237174\n",
      "\n",
      "Mean Accuracy: 0.7666666666666667\n"
     ]
    },
    {
     "data": {
      "text/plain": [
       "3-element Array{Float64,1}:\n",
       " 0.74\n",
       " 0.9 \n",
       " 0.66"
      ]
     },
     "execution_count": 39,
     "metadata": {},
     "output_type": "execute_result"
    }
   ],
   "source": [
    "# train adaptive-boosted stumps, using 7 iterations\n",
    "model, coeffs = build_adaboost_stumps(labels, features, 7);\n",
    "# apply learned model\n",
    "apply_adaboost_stumps(model, coeffs, [5.9,3.0,5.1,1.9])\n",
    "# get the probability of each label\n",
    "apply_adaboost_stumps_proba(model, coeffs, [5.9,3.0,5.1,1.9], [\"setosa\", \"versicolor\", \"virginica\"])\n",
    "# run n-fold cross validation for boosted stumps, using 7 iterations and 3 folds\n",
    "accuracy = nfoldCV_stumps(labels, features, 7, 3)"
   ]
  },
  {
   "cell_type": "markdown",
   "metadata": {},
   "source": [
    "### Regression Example"
   ]
  },
  {
   "cell_type": "code",
   "execution_count": 40,
   "metadata": {
    "collapsed": true
   },
   "outputs": [],
   "source": [
    "n, m = 10^3, 5 ;\n",
    "features = randn(n, m);\n",
    "weights = rand(-2:2, m);\n",
    "labels = features * weights;"
   ]
  },
  {
   "cell_type": "code",
   "execution_count": 41,
   "metadata": {},
   "outputs": [
    {
     "name": "stdout",
     "output_type": "stream",
     "text": [
      "\n",
      "Fold 1\n",
      "Mean Squared Error:     1.0406102600491711\n",
      "Correlation Coeff:      0.9423620345949416\n",
      "Coeff of Determination: 0.8876648618629531\n",
      "\n",
      "Fold 2\n",
      "Mean Squared Error:     1.0031735474668468\n",
      "Correlation Coeff:      0.9479971774744004\n",
      "Coeff of Determination: 0.8978302930596667\n",
      "\n",
      "Fold 3\n",
      "Mean Squared Error:     1.2709257571620163\n",
      "Correlation Coeff:      0.9353166655932865\n",
      "Coeff of Determination: 0.8735679181381519\n",
      "\n",
      "Mean Coeff of Determination: 0.8863543576869238\n"
     ]
    },
    {
     "data": {
      "text/plain": [
       "3-element Array{Float64,1}:\n",
       " 0.887665\n",
       " 0.89783 \n",
       " 0.873568"
      ]
     },
     "execution_count": 41,
     "metadata": {},
     "output_type": "execute_result"
    }
   ],
   "source": [
    "# train regression tree, using an averaging of 5 samples per leaf (optional)\n",
    "model = build_tree(labels, features, 10)\n",
    "# apply learned model\n",
    "apply_tree(model, [-0.9,3.0,5.1,1.9,0.0])\n",
    "# run n-fold cross validation, using 3 folds, averaging of 5 samples per leaf (optional)\n",
    "# returns array of coefficients of determination (R^2)\n",
    "r2 = nfoldCV_tree(labels, features, 3, 5)"
   ]
  },
  {
   "cell_type": "markdown",
   "metadata": {},
   "source": [
    "### Regression Random Forest"
   ]
  },
  {
   "cell_type": "code",
   "execution_count": 42,
   "metadata": {},
   "outputs": [
    {
     "name": "stdout",
     "output_type": "stream",
     "text": [
      "\n",
      "Fold 1\n",
      "Mean Squared Error:     0.7492733472548869\n",
      "Correlation Coeff:      0.9685374685976451\n",
      "Coeff of Determination: 0.9230495573954945\n",
      "\n",
      "Fold 2\n",
      "Mean Squared Error:     0.922607236924649\n",
      "Correlation Coeff:      0.9624210487415116\n",
      "Coeff of Determination: 0.9037230033901935\n",
      "\n",
      "Fold 3\n",
      "Mean Squared Error:     0.8059821171089434\n",
      "Correlation Coeff:      0.9694820169090681\n",
      "Coeff of Determination: 0.9179757924556372\n",
      "\n",
      "Mean Coeff of Determination: 0.9149161177471085\n"
     ]
    },
    {
     "data": {
      "text/plain": [
       "3-element Array{Float64,1}:\n",
       " 0.92305 \n",
       " 0.903723\n",
       " 0.917976"
      ]
     },
     "execution_count": 42,
     "metadata": {},
     "output_type": "execute_result"
    }
   ],
   "source": [
    "# train regression forest, using 2 random features, 10 trees,\n",
    "# averaging of 5 samples per leaf (optional), 0.7 of samples per tree (optional)\n",
    "model = build_forest(labels,features, 2, 10, 5, 0.7)\n",
    "# apply learned model\n",
    "apply_forest(model, [-0.9,3.0,5.1,1.9,0.0])\n",
    "# run n-fold cross validation on regression forest\n",
    "# using 2 random features, 10 trees, 3 folds, averaging of 5 samples/leaf (optional),\n",
    "# and 0.7 porition of samples per tree (optional)\n",
    "# returns array of coefficients of determination (R^2)\n",
    "r2 = nfoldCV_forest(labels, features, 2, 10, 3, 5, 0.7)"
   ]
  },
  {
   "cell_type": "code",
   "execution_count": 46,
   "metadata": {},
   "outputs": [
    {
     "name": "stdout",
     "output_type": "stream",
     "text": [
      "Ensemble of Decision Trees\n",
      "Trees:      10\n",
      "Avg Leaves: 231.5\n",
      "Avg Depth:  16.0"
     ]
    }
   ],
   "source": [
    "show(model)"
   ]
  },
  {
   "cell_type": "code",
   "execution_count": 49,
   "metadata": {},
   "outputs": [
    {
     "name": "stdout",
     "output_type": "stream",
     "text": [
      "[0.92305, 0.903723, 0.917976]"
     ]
    }
   ],
   "source": [
    "show(r2)"
   ]
  }
 ],
 "metadata": {
  "kernelspec": {
   "display_name": "Julia 0.6.0",
   "language": "julia",
   "name": "julia-0.6"
  },
  "language_info": {
   "file_extension": ".jl",
   "mimetype": "application/julia",
   "name": "julia",
   "version": "0.6.0"
  }
 },
 "nbformat": 4,
 "nbformat_minor": 2
}
