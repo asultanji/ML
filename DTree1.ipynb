{
 "cells": [
  {
   "cell_type": "markdown",
   "metadata": {},
   "source": [
    "## Decision Tree Sample\n",
    "\n",
    "This is the sample data for the decision tree\n",
    "https://github.com/vincentarelbundock/Rdatasets\n",
    "https://vincentarelbundock.github.io/Rdatasets/datasets.html\n",
    "https://github.com/bensadeghi/DecisionTree.jl\n",
    "\n",
    "An Example:\n",
    "X_1 = (Alternate, Bar, isFriday, ishungry, isPatron, Price, isRain, IsRES??, Type, EstWait) -> (Willwait/WontWait)\n",
    "\n",
    "### Classification Example\n",
    "\n",
    "#### Load RDatasets and DecisionTree packages"
   ]
  },
  {
   "cell_type": "code",
   "execution_count": 115,
   "metadata": {},
   "outputs": [
    {
     "name": "stderr",
     "output_type": "stream",
     "text": [
      "\u001b[1m\u001b[36mINFO: \u001b[39m\u001b[22m\u001b[36mPackage DecisionTree is already installed\n",
      "\u001b[39m\u001b[1m\u001b[36mINFO: \u001b[39m\u001b[22m\u001b[36mMETADATA is out-of-date — you may not have the latest version of DecisionTree\n",
      "\u001b[39m\u001b[1m\u001b[36mINFO: \u001b[39m\u001b[22m\u001b[36mUse `Pkg.update()` to get the latest versions of your packages\n",
      "\u001b[39m\u001b[1m\u001b[36mINFO: \u001b[39m\u001b[22m\u001b[36mPackage RDatasets is already installed\n",
      "\u001b[39m\u001b[1m\u001b[36mINFO: \u001b[39m\u001b[22m\u001b[36mMETADATA is out-of-date — you may not have the latest version of RDatasets\n",
      "\u001b[39m\u001b[1m\u001b[36mINFO: \u001b[39m\u001b[22m\u001b[36mUse `Pkg.update()` to get the latest versions of your packages\n",
      "\u001b[39m"
     ]
    }
   ],
   "source": [
    "Pkg.add(\"DecisionTree\")\n",
    "Pkg.add(\"RDatasets\")"
   ]
  },
  {
   "cell_type": "code",
   "execution_count": 116,
   "metadata": {
    "collapsed": true
   },
   "outputs": [],
   "source": [
    "using DecisionTree\n",
    "using RDatasets"
   ]
  },
  {
   "cell_type": "markdown",
   "metadata": {},
   "source": [
    "### Separate Fisher's Iris dataset features and labels"
   ]
  },
  {
   "cell_type": "code",
   "execution_count": 117,
   "metadata": {
    "collapsed": true
   },
   "outputs": [],
   "source": [
    "iris = dataset(\"datasets\", \"iris\")\n",
    "features = convert(Array, iris[:, 1:4]);\n",
    "labels = convert(Array, iris[:, 5]);"
   ]
  },
  {
   "cell_type": "markdown",
   "metadata": {},
   "source": [
    "### Pruned Tree Classifier"
   ]
  },
  {
   "cell_type": "code",
   "execution_count": 118,
   "metadata": {},
   "outputs": [
    {
     "data": {
      "text/plain": [
       "3×3 Array{Int64,2}:\n",
       " 16   0   0\n",
       "  0  14   3\n",
       "  0   2  15"
      ]
     },
     "metadata": {},
     "output_type": "display_data"
    },
    {
     "data": {
      "text/plain": [
       "3×3 Array{Int64,2}:\n",
       " 18   0   0\n",
       "  1  18   1\n",
       "  0   1  11"
      ]
     },
     "metadata": {},
     "output_type": "display_data"
    },
    {
     "data": {
      "text/plain": [
       "3×3 Array{Int64,2}:\n",
       " 16   0   0\n",
       "  0  11   2\n",
       "  0   1  20"
      ]
     },
     "metadata": {},
     "output_type": "display_data"
    },
    {
     "name": "stdout",
     "output_type": "stream",
     "text": [
      "Feature 3, Threshold 3.0\n",
      "L-> setosa : 50/50\n",
      "R-> Feature 4, Threshold 1.8\n",
      "    L-> Feature 3, Threshold 5.0\n",
      "        L-> versicolor : 47/48\n",
      "        R-> Feature 4, Threshold 1.6\n",
      "            L-> virginica : 3/3\n",
      "            R-> Feature 1, Threshold 7.2\n",
      "                L-> versicolor : 2/2\n",
      "                R-> virginica : 1/1\n",
      "    R-> Feature 3, Threshold 4.9\n",
      "        L-> Feature 1, Threshold 6.0\n",
      "            L-> versicolor : 1/1\n",
      "            R-> virginica : 2/2\n",
      "        R-> virginica : 43/43\n",
      "\n",
      "Fold 1\n",
      "Classes:  String[\"setosa\", \"versicolor\", \"virginica\"]\n",
      "Matrix:   \n",
      "Accuracy: 0.9\n",
      "Kappa:    0.8499399759903962\n",
      "\n",
      "Fold 2\n",
      "Classes:  String[\"setosa\", \"versicolor\", \"virginica\"]\n",
      "Matrix:   \n",
      "Accuracy: 0.94\n",
      "Kappa:    0.9082007343941247\n",
      "\n",
      "Fold 3\n",
      "Classes:  String[\"setosa\", \"versicolor\", \"virginica\"]\n",
      "Matrix:   \n",
      "Accuracy: 0.94\n",
      "Kappa:    0.9077490774907748\n",
      "\n",
      "Mean Accuracy: 0.9266666666666666\n"
     ]
    },
    {
     "data": {
      "text/plain": [
       "3-element Array{Float64,1}:\n",
       " 0.9 \n",
       " 0.94\n",
       " 0.94"
      ]
     },
     "execution_count": 118,
     "metadata": {},
     "output_type": "execute_result"
    }
   ],
   "source": [
    "# train full-tree classifier\n",
    "model = build_tree(labels, features)\n",
    "# prune tree: merge leaves having >= 90% combined purity (default: 100%)\n",
    "model = prune_tree(model, 0.9)\n",
    "# pretty print of the tree, to a depth of 5 nodes (optional)\n",
    "print_tree(model, 5)\n",
    "# apply learned model\n",
    "apply_tree(model, [5.9,3.0,5.1,1.9])\n",
    "# get the probability of each label\n",
    "apply_tree_proba(model, [5.9,3.0,5.1,1.9], [\"setosa\", \"versicolor\", \"virginica\"])\n",
    "# run n-fold cross validation for pruned tree,\n",
    "# using 90% purity threshold pruning, and 3 CV folds\n",
    "accuracy = nfoldCV_tree(labels, features, 0.9, 3)"
   ]
  },
  {
   "cell_type": "markdown",
   "metadata": {},
   "source": [
    "### Random Forest Classifier"
   ]
  },
  {
   "cell_type": "code",
   "execution_count": 119,
   "metadata": {},
   "outputs": [
    {
     "data": {
      "text/plain": [
       "3×3 Array{Int64,2}:\n",
       " 15   0   0\n",
       "  0  17   2\n",
       "  0   0  16"
      ]
     },
     "metadata": {},
     "output_type": "display_data"
    },
    {
     "data": {
      "text/plain": [
       "3×3 Array{Int64,2}:\n",
       " 15   0   0\n",
       "  0  19   1\n",
       "  0   4  11"
      ]
     },
     "metadata": {},
     "output_type": "display_data"
    },
    {
     "data": {
      "text/plain": [
       "3×3 Array{Int64,2}:\n",
       " 20  0   0\n",
       "  0  9   2\n",
       "  0  0  19"
      ]
     },
     "metadata": {},
     "output_type": "display_data"
    },
    {
     "name": "stdout",
     "output_type": "stream",
     "text": [
      "\n",
      "Fold 1\n",
      "Classes:  String[\"setosa\", \"versicolor\", \"virginica\"]\n",
      "Matrix:   \n",
      "Accuracy: 0.96\n",
      "Kappa:    0.9399038461538461\n",
      "\n",
      "Fold 2\n",
      "Classes:  String[\"setosa\", \"versicolor\", \"virginica\"]\n",
      "Matrix:   \n",
      "Accuracy: 0.9\n",
      "Kappa:    0.8470948012232417\n",
      "\n",
      "Fold 3\n",
      "Classes:  String[\"setosa\", \"versicolor\", \"virginica\"]\n",
      "Matrix:   \n",
      "Accuracy: 0.96\n",
      "Kappa:    0.9375780274656679\n",
      "\n",
      "Mean Accuracy: 0.94\n"
     ]
    },
    {
     "data": {
      "text/plain": [
       "3-element Array{Float64,1}:\n",
       " 0.96\n",
       " 0.9 \n",
       " 0.96"
      ]
     },
     "execution_count": 119,
     "metadata": {},
     "output_type": "execute_result"
    }
   ],
   "source": [
    "# train random forest classifier\n",
    "# using 2 random features, 10 trees, 0.5 portion of samples per tree (optional), and a maximum tree depth of 6 (optional)\n",
    "model = build_forest(labels, features, 2, 10, 0.5, 6)\n",
    "# apply learned model\n",
    "apply_forest(model, [5.9,3.0,5.1,1.9])\n",
    "# get the probability of each label\n",
    "apply_forest_proba(model, [5.9,3.0,5.1,1.9], [\"setosa\", \"versicolor\", \"virginica\"])\n",
    "# run n-fold cross validation for forests\n",
    "# using 2 random features, 10 trees, 3 folds and 0.5 of samples per tree (optional)\n",
    "accuracy = nfoldCV_forest(labels, features, 2, 10, 3, 0.5)"
   ]
  },
  {
   "cell_type": "markdown",
   "metadata": {},
   "source": [
    "### Adaptive-Boosted Decision Stumps Classifier"
   ]
  },
  {
   "cell_type": "code",
   "execution_count": 120,
   "metadata": {},
   "outputs": [
    {
     "data": {
      "text/plain": [
       "3×3 Array{Int64,2}:\n",
       " 11  0   0\n",
       "  2  4  11\n",
       "  0  0  22"
      ]
     },
     "metadata": {},
     "output_type": "display_data"
    },
    {
     "data": {
      "text/plain": [
       "3×3 Array{Int64,2}:\n",
       " 16   4   0\n",
       "  0  13   2\n",
       "  0   2  13"
      ]
     },
     "metadata": {},
     "output_type": "display_data"
    },
    {
     "name": "stdout",
     "output_type": "stream",
     "text": [
      "\n",
      "Fold 1\n",
      "Classes:  String[\"setosa\", \"versicolor\", \"virginica\"]\n",
      "Matrix:   \n",
      "Accuracy: 0.74\n",
      "Kappa:    0.5841330774152271\n",
      "\n",
      "Fold 2\n",
      "Classes:  String[\"setosa\", \"versicolor\", \"virginica\"]\n",
      "Matrix:   \n",
      "Accuracy: 0.84\n",
      "Kappa:    0.7604790419161678\n",
      "\n",
      "Fold "
     ]
    },
    {
     "data": {
      "text/plain": [
       "3×3 Array{Int64,2}:\n",
       " 18   1   0\n",
       "  0  17   1\n",
       "  0   1  12"
      ]
     },
     "metadata": {},
     "output_type": "display_data"
    },
    {
     "name": "stdout",
     "output_type": "stream",
     "text": [
      "3\n",
      "Classes:  String[\"setosa\", \"versicolor\", \"virginica\"]\n",
      "Matrix:   \n",
      "Accuracy: 0.94\n",
      "Kappa:    0.9089253187613843\n",
      "\n",
      "Mean Accuracy: 0.84\n"
     ]
    },
    {
     "data": {
      "text/plain": [
       "3-element Array{Float64,1}:\n",
       " 0.74\n",
       " 0.84\n",
       " 0.94"
      ]
     },
     "execution_count": 120,
     "metadata": {},
     "output_type": "execute_result"
    }
   ],
   "source": [
    "# train adaptive-boosted stumps, using 7 iterations\n",
    "model, coeffs = build_adaboost_stumps(labels, features, 7);\n",
    "# apply learned model\n",
    "apply_adaboost_stumps(model, coeffs, [5.9,3.0,5.1,1.9])\n",
    "# get the probability of each label\n",
    "apply_adaboost_stumps_proba(model, coeffs, [5.9,3.0,5.1,1.9], [\"setosa\", \"versicolor\", \"virginica\"])\n",
    "# run n-fold cross validation for boosted stumps, using 7 iterations and 3 folds\n",
    "accuracy = nfoldCV_stumps(labels, features, 7, 3)"
   ]
  },
  {
   "cell_type": "markdown",
   "metadata": {},
   "source": [
    "### Regression Example"
   ]
  },
  {
   "cell_type": "code",
   "execution_count": 121,
   "metadata": {
    "collapsed": true
   },
   "outputs": [],
   "source": [
    "n, m = 10^3, 5 ;\n",
    "features = randn(n, m);\n",
    "weights = rand(-2:2, m);\n",
    "labels = features * weights;"
   ]
  },
  {
   "cell_type": "code",
   "execution_count": 122,
   "metadata": {},
   "outputs": [
    {
     "name": "stdout",
     "output_type": "stream",
     "text": [
      "\n",
      "Fold 1\n",
      "Mean Squared Error:     1.243537824432842\n",
      "Correlation Coeff:      0.9101673756983628\n",
      "Coeff of Determination: 0.8261039847816669\n",
      "\n",
      "Fold 2\n",
      "Mean Squared Error:     1.3735365826404549\n",
      "Correlation Coeff:      0.8934653787536725\n",
      "Coeff of Determination: 0.7949879961253998\n",
      "\n",
      "Fold 3\n",
      "Mean Squared Error:     1.201211290711461\n",
      "Correlation Coeff:      0.9155921072546311\n",
      "Coeff of Determination: 0.8378920001145272\n",
      "\n",
      "Mean Coeff of Determination: 0.8196613270071981\n"
     ]
    },
    {
     "data": {
      "text/plain": [
       "3-element Array{Float64,1}:\n",
       " 0.826104\n",
       " 0.794988\n",
       " 0.837892"
      ]
     },
     "execution_count": 122,
     "metadata": {},
     "output_type": "execute_result"
    }
   ],
   "source": [
    "# train regression tree, using an averaging of 5 samples per leaf (optional)\n",
    "model = build_tree(labels, features, 5)\n",
    "# apply learned model\n",
    "apply_tree(model, [-0.9,3.0,5.1,1.9,0.0])\n",
    "# run n-fold cross validation, using 3 folds, averaging of 5 samples per leaf (optional)\n",
    "# returns array of coefficients of determination (R^2)\n",
    "r2 = nfoldCV_tree(labels, features, 3, 5)"
   ]
  },
  {
   "cell_type": "markdown",
   "metadata": {},
   "source": [
    "### Regression Random Forest"
   ]
  },
  {
   "cell_type": "code",
   "execution_count": 124,
   "metadata": {},
   "outputs": [
    {
     "name": "stdout",
     "output_type": "stream",
     "text": [
      "\n",
      "Fold 1\n",
      "Mean Squared Error:     0.7672772800670623\n",
      "Correlation Coeff:      0.9537177427622131\n",
      "Coeff of Determination: 0.8910805006065017\n",
      "\n",
      "Fold 2\n",
      "Mean Squared Error:     0.6486222262906012\n",
      "Correlation Coeff:      0.9628494805545419\n",
      "Coeff of Determination: 0.9107274573746335\n",
      "\n",
      "Fold 3\n",
      "Mean Squared Error:     0.7079725702223097\n",
      "Correlation Coeff:      0.9565653120789999\n",
      "Coeff of Determination: 0.8982096604688339\n",
      "\n",
      "Mean Coeff of Determination: 0.9000058728166563\n"
     ]
    },
    {
     "data": {
      "text/plain": [
       "3-element Array{Float64,1}:\n",
       " 0.891081\n",
       " 0.910727\n",
       " 0.89821 "
      ]
     },
     "execution_count": 124,
     "metadata": {},
     "output_type": "execute_result"
    }
   ],
   "source": [
    "# train regression forest, using 2 random features, 10 trees,\n",
    "# averaging of 5 samples per leaf (optional), 0.7 of samples per tree (optional)\n",
    "model = build_forest(labels,features, 2, 10, 5, 0.7)\n",
    "# apply learned model\n",
    "apply_forest(model, [-0.9,3.0,5.1,1.9,0.0])\n",
    "# run n-fold cross validation on regression forest\n",
    "# using 2 random features, 10 trees, 3 folds, averaging of 5 samples/leaf (optional),\n",
    "# and 0.7 porition of samples per tree (optional)\n",
    "# returns array of coefficients of determination (R^2)\n",
    "r2 = nfoldCV_forest(labels, features, 2, 10, 3, 5, 0.7)"
   ]
  },
  {
   "cell_type": "code",
   "execution_count": 125,
   "metadata": {},
   "outputs": [
    {
     "name": "stdout",
     "output_type": "stream",
     "text": [
      "Ensemble of Decision Trees\n",
      "Trees:      10\n",
      "Avg Leaves: 234.5\n",
      "Avg Depth:  15.9"
     ]
    }
   ],
   "source": [
    "show(model)"
   ]
  }
 ],
 "metadata": {
  "kernelspec": {
   "display_name": "Julia 0.6.0",
   "language": "julia",
   "name": "julia-0.6"
  },
  "language_info": {
   "file_extension": ".jl",
   "mimetype": "application/julia",
   "name": "julia",
   "version": "0.6.0"
  }
 },
 "nbformat": 4,
 "nbformat_minor": 2
}
