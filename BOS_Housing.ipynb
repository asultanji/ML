{
 "cells": [
  {
   "cell_type": "markdown",
   "metadata": {},
   "source": [
    "## Boston Housing Price Assessment\n",
    "\n",
    "##### crim = per capita crime rate by town\n",
    "##### zn = proportion of residential land zoned for lots over 25,000 sq.ft.\n",
    "##### indus = proportion of non-retail business acres per town.\n",
    "##### chas = Charles River dummy variable (= 1 if tract bounds river; 0 otherwise).\n",
    "##### nox = nitrogen oxides concentration (parts per 10 million).\n",
    "##### rm = average number of rooms per dwelling.\n",
    "##### age = proportion of owner-occupied units built prior to 1940.\n",
    "##### dis = weighted mean of distances to five Boston employment centres.\n",
    "##### rad = index of accessibility to radial highways.\n",
    "##### tax = full-value property-tax rate per USD 10,000\n",
    "##### ptratio = pupil-teacher ratio by town.\n",
    "##### black = 1000(Bk - 0.63)^2 where Bk is the proportion of blacks by town.\n",
    "##### lstat = lower status of the population (percent).\n",
    "##### medv = median value of owner-occupied homes in USD 1000s"
   ]
  },
  {
   "cell_type": "code",
   "execution_count": 1,
   "metadata": {},
   "outputs": [
    {
     "name": "stderr",
     "output_type": "stream",
     "text": [
      "\u001b[1m\u001b[36mINFO: \u001b[39m\u001b[22m\u001b[36mPackage DataFrames is already installed\n",
      "\u001b[39m\u001b[1m\u001b[36mINFO: \u001b[39m\u001b[22m\u001b[36mMETADATA is out-of-date — you may not have the latest version of DataFrames\n",
      "\u001b[39m\u001b[1m\u001b[36mINFO: \u001b[39m\u001b[22m\u001b[36mUse `Pkg.update()` to get the latest versions of your packages\n",
      "\u001b[39m\u001b[1m\u001b[36mINFO: \u001b[39m\u001b[22m\u001b[36mPackage RDatasets is already installed\n",
      "\u001b[39m\u001b[1m\u001b[36mINFO: \u001b[39m\u001b[22m\u001b[36mMETADATA is out-of-date — you may not have the latest version of RDatasets\n",
      "\u001b[39m\u001b[1m\u001b[36mINFO: \u001b[39m\u001b[22m\u001b[36mUse `Pkg.update()` to get the latest versions of your packages\n",
      "\u001b[39m\u001b[1m\u001b[36mINFO: \u001b[39m\u001b[22m\u001b[36mPackage GLM is already installed\n",
      "\u001b[39m\u001b[1m\u001b[36mINFO: \u001b[39m\u001b[22m\u001b[36mMETADATA is out-of-date — you may not have the latest version of GLM\n",
      "\u001b[39m\u001b[1m\u001b[36mINFO: \u001b[39m\u001b[22m\u001b[36mUse `Pkg.update()` to get the latest versions of your packages\n",
      "\u001b[39m\u001b[1m\u001b[36mINFO: \u001b[39m\u001b[22m\u001b[36mPackage PyPlot is already installed\n",
      "\u001b[39m\u001b[1m\u001b[36mINFO: \u001b[39m\u001b[22m\u001b[36mMETADATA is out-of-date — you may not have the latest version of PyPlot\n",
      "\u001b[39m\u001b[1m\u001b[36mINFO: \u001b[39m\u001b[22m\u001b[36mUse `Pkg.update()` to get the latest versions of your packages\n",
      "\u001b[39m\u001b[1m\u001b[36mINFO: \u001b[39m\u001b[22m\u001b[36mPackage StatPlots is already installed\n",
      "\u001b[39m\u001b[1m\u001b[36mINFO: \u001b[39m\u001b[22m\u001b[36mMETADATA is out-of-date — you may not have the latest version of StatPlots\n",
      "\u001b[39m\u001b[1m\u001b[36mINFO: \u001b[39m\u001b[22m\u001b[36mUse `Pkg.update()` to get the latest versions of your packages\n",
      "\u001b[39m"
     ]
    }
   ],
   "source": [
    "#Pkg.add(\"DecisionTree\")\n",
    "Pkg.add(\"DataFrames\")\n",
    "Pkg.add(\"RDatasets\")\n",
    "Pkg.add(\"GLM\")\n",
    "Pkg.add(\"PyPlot\")\n",
    "Pkg.add(\"StatPlots\")\n"
   ]
  },
  {
   "cell_type": "code",
   "execution_count": 2,
   "metadata": {},
   "outputs": [],
   "source": [
    "#using DecisionTree\n",
    "using RDatasets, DataFrames\n",
    "using GLM\n",
    "using PyPlot, StatPlots"
   ]
  },
  {
   "cell_type": "code",
   "execution_count": 3,
   "metadata": {},
   "outputs": [
    {
     "data": {
      "text/plain": [
       "14-element Array{Symbol,1}:\n",
       " :Crim   \n",
       " :Zn     \n",
       " :Indus  \n",
       " :Chas   \n",
       " :NOx    \n",
       " :Rm     \n",
       " :Age    \n",
       " :Dis    \n",
       " :Rad    \n",
       " :Tax    \n",
       " :PTRatio\n",
       " :Black  \n",
       " :LStat  \n",
       " :MedV   "
      ]
     },
     "execution_count": 3,
     "metadata": {},
     "output_type": "execute_result"
    }
   ],
   "source": [
    "bos = dataset(\"MASS\", \"Boston\")\n",
    "features = convert(Array, bos[:, 1:14]);\n",
    "#tag = convert(Array, bos[:, 1]);\n",
    "labels = names(bos)"
   ]
  },
  {
   "cell_type": "code",
   "execution_count": 4,
   "metadata": {},
   "outputs": [
    {
     "name": "stdout",
     "output_type": "stream",
     "text": [
      "Symbol[:Crim, :Zn, :Indus, :Chas, :NOx, :Rm, :Age, :Dis, :Rad, :Tax, :PTRatio, :Black, :LStat, :MedV]"
     ]
    }
   ],
   "source": [
    "show(labels)"
   ]
  },
  {
   "cell_type": "code",
   "execution_count": 5,
   "metadata": {},
   "outputs": [
    {
     "name": "stdout",
     "output_type": "stream",
     "text": [
      "Crim\n",
      "Summary Stats:\n",
      "Mean:           3.613524\n",
      "Minimum:        0.006320\n",
      "1st Quartile:   0.082045\n",
      "Median:         0.256510\n",
      "3rd Quartile:   3.677083\n",
      "Maximum:        88.976200\n",
      "Length:         506\n",
      "Type:           Float64\n",
      "Number Missing: 0\n",
      "% Missing:      0.000000\n",
      "\n",
      "Zn\n",
      "Summary Stats:\n",
      "Mean:           11.363636\n",
      "Minimum:        0.000000\n",
      "1st Quartile:   0.000000\n",
      "Median:         0.000000\n",
      "3rd Quartile:   12.500000\n",
      "Maximum:        100.000000\n",
      "Length:         506\n",
      "Type:           Float64\n",
      "Number Missing: 0\n",
      "% Missing:      0.000000\n",
      "\n",
      "Indus\n",
      "Summary Stats:\n",
      "Mean:           11.136779\n",
      "Minimum:        0.460000\n",
      "1st Quartile:   5.190000\n",
      "Median:         9.690000\n",
      "3rd Quartile:   18.100000\n",
      "Maximum:        27.740000\n",
      "Length:         506\n",
      "Type:           Float64\n",
      "Number Missing: 0\n",
      "% Missing:      0.000000\n",
      "\n",
      "Chas\n",
      "Summary Stats:\n",
      "Mean:           0.069170\n",
      "Minimum:        0.000000\n",
      "1st Quartile:   0.000000\n",
      "Median:         0.000000\n",
      "3rd Quartile:   0.000000\n",
      "Maximum:        1.000000\n",
      "Length:         506\n",
      "Type:           Int64\n",
      "Number Missing: 0\n",
      "% Missing:      0.000000\n",
      "\n",
      "NOx\n",
      "Summary Stats:\n",
      "Mean:           0.554695\n",
      "Minimum:        0.385000\n",
      "1st Quartile:   0.449000\n",
      "Median:         0.538000\n",
      "3rd Quartile:   0.624000\n",
      "Maximum:        0.871000\n",
      "Length:         506\n",
      "Type:           Float64\n",
      "Number Missing: 0\n",
      "% Missing:      0.000000\n",
      "\n",
      "Rm\n",
      "Summary Stats:\n",
      "Mean:           6.284634\n",
      "Minimum:        3.561000\n",
      "1st Quartile:   5.885500\n",
      "Median:         6.208500\n",
      "3rd Quartile:   6.623500\n",
      "Maximum:        8.780000\n",
      "Length:         506\n",
      "Type:           Float64\n",
      "Number Missing: 0\n",
      "% Missing:      0.000000\n",
      "\n",
      "Age\n",
      "Summary Stats:\n",
      "Mean:           68.574901\n",
      "Minimum:        2.900000\n",
      "1st Quartile:   45.025000\n",
      "Median:         77.500000\n",
      "3rd Quartile:   94.075000\n",
      "Maximum:        100.000000\n",
      "Length:         506\n",
      "Type:           Float64\n",
      "Number Missing: 0\n",
      "% Missing:      0.000000\n",
      "\n",
      "Dis\n",
      "Summary Stats:\n",
      "Mean:           3.795043\n",
      "Minimum:        1.129600\n",
      "1st Quartile:   2.100175\n",
      "Median:         3.207450\n",
      "3rd Quartile:   5.188425\n",
      "Maximum:        12.126500\n",
      "Length:         506\n",
      "Type:           Float64\n",
      "Number Missing: 0\n",
      "% Missing:      0.000000\n",
      "\n",
      "Rad\n",
      "Summary Stats:\n",
      "Mean:           9.549407\n",
      "Minimum:        1.000000\n",
      "1st Quartile:   4.000000\n",
      "Median:         5.000000\n",
      "3rd Quartile:   24.000000\n",
      "Maximum:        24.000000\n",
      "Length:         506\n",
      "Type:           Int64\n",
      "Number Missing: 0\n",
      "% Missing:      0.000000\n",
      "\n",
      "Tax\n",
      "Summary Stats:\n",
      "Mean:           408.237154\n",
      "Minimum:        187.000000\n",
      "1st Quartile:   279.000000\n",
      "Median:         330.000000\n",
      "3rd Quartile:   666.000000\n",
      "Maximum:        711.000000\n",
      "Length:         506\n",
      "Type:           Int64\n",
      "Number Missing: 0\n",
      "% Missing:      0.000000\n",
      "\n",
      "PTRatio\n",
      "Summary Stats:\n",
      "Mean:           18.455534\n",
      "Minimum:        12.600000\n",
      "1st Quartile:   17.400000\n",
      "Median:         19.050000\n",
      "3rd Quartile:   20.200000\n",
      "Maximum:        22.000000\n",
      "Length:         506\n",
      "Type:           Float64\n",
      "Number Missing: 0\n",
      "% Missing:      0.000000\n",
      "\n",
      "Black\n",
      "Summary Stats:\n",
      "Mean:           356.674032\n",
      "Minimum:        0.320000\n",
      "1st Quartile:   375.377500\n",
      "Median:         391.440000\n",
      "3rd Quartile:   396.225000\n",
      "Maximum:        396.900000\n",
      "Length:         506\n",
      "Type:           Float64\n",
      "Number Missing: 0\n",
      "% Missing:      0.000000\n",
      "\n",
      "LStat\n",
      "Summary Stats:\n",
      "Mean:           12.653063\n",
      "Minimum:        1.730000\n",
      "1st Quartile:   6.950000\n",
      "Median:         11.360000\n",
      "3rd Quartile:   16.955000\n",
      "Maximum:        37.970000\n",
      "Length:         506\n",
      "Type:           Float64\n",
      "Number Missing: 0\n",
      "% Missing:      0.000000\n",
      "\n",
      "MedV\n",
      "Summary Stats:\n",
      "Mean:           22.532806\n",
      "Minimum:        5.000000\n",
      "1st Quartile:   17.025000\n",
      "Median:         21.200000\n",
      "3rd Quartile:   25.000000\n",
      "Maximum:        50.000000\n",
      "Length:         506\n",
      "Type:           Float64\n",
      "Number Missing: 0\n",
      "% Missing:      0.000000\n",
      "\n"
     ]
    }
   ],
   "source": [
    "describe(bos)"
   ]
  },
  {
   "cell_type": "code",
   "execution_count": 6,
   "metadata": {},
   "outputs": [
    {
     "data": {
      "text/html": [
       "<table class=\"data-frame\"><thead><tr><th></th><th>Crim</th><th>Zn</th><th>Indus</th><th>Chas</th><th>NOx</th><th>Rm</th><th>Age</th><th>Dis</th><th>Rad</th><th>Tax</th><th>PTRatio</th><th>Black</th><th>LStat</th><th>MedV</th></tr></thead><tbody><tr><th>1</th><td>0.00632</td><td>18.0</td><td>2.31</td><td>0</td><td>0.538</td><td>6.575</td><td>65.2</td><td>4.09</td><td>1</td><td>296</td><td>15.3</td><td>396.9</td><td>4.98</td><td>24.0</td></tr><tr><th>2</th><td>0.02731</td><td>0.0</td><td>7.07</td><td>0</td><td>0.469</td><td>6.421</td><td>78.9</td><td>4.9671</td><td>2</td><td>242</td><td>17.8</td><td>396.9</td><td>9.14</td><td>21.6</td></tr><tr><th>3</th><td>0.02729</td><td>0.0</td><td>7.07</td><td>0</td><td>0.469</td><td>7.185</td><td>61.1</td><td>4.9671</td><td>2</td><td>242</td><td>17.8</td><td>392.83</td><td>4.03</td><td>34.7</td></tr><tr><th>4</th><td>0.03237</td><td>0.0</td><td>2.18</td><td>0</td><td>0.458</td><td>6.998</td><td>45.8</td><td>6.0622</td><td>3</td><td>222</td><td>18.7</td><td>394.63</td><td>2.94</td><td>33.4</td></tr><tr><th>5</th><td>0.06905</td><td>0.0</td><td>2.18</td><td>0</td><td>0.458</td><td>7.147</td><td>54.2</td><td>6.0622</td><td>3</td><td>222</td><td>18.7</td><td>396.9</td><td>5.33</td><td>36.2</td></tr></tbody></table>"
      ],
      "text/plain": [
       "5×14 DataFrames.DataFrame\n",
       "│ Row │ Crim    │ Zn   │ Indus │ Chas │ NOx   │ Rm    │ Age  │ Dis    │ Rad │\n",
       "├─────┼─────────┼──────┼───────┼──────┼───────┼───────┼──────┼────────┼─────┤\n",
       "│ 1   │ 0.00632 │ 18.0 │ 2.31  │ 0    │ 0.538 │ 6.575 │ 65.2 │ 4.09   │ 1   │\n",
       "│ 2   │ 0.02731 │ 0.0  │ 7.07  │ 0    │ 0.469 │ 6.421 │ 78.9 │ 4.9671 │ 2   │\n",
       "│ 3   │ 0.02729 │ 0.0  │ 7.07  │ 0    │ 0.469 │ 7.185 │ 61.1 │ 4.9671 │ 2   │\n",
       "│ 4   │ 0.03237 │ 0.0  │ 2.18  │ 0    │ 0.458 │ 6.998 │ 45.8 │ 6.0622 │ 3   │\n",
       "│ 5   │ 0.06905 │ 0.0  │ 2.18  │ 0    │ 0.458 │ 7.147 │ 54.2 │ 6.0622 │ 3   │\n",
       "\n",
       "│ Row │ Tax │ PTRatio │ Black  │ LStat │ MedV │\n",
       "├─────┼─────┼─────────┼────────┼───────┼──────┤\n",
       "│ 1   │ 296 │ 15.3    │ 396.9  │ 4.98  │ 24.0 │\n",
       "│ 2   │ 242 │ 17.8    │ 396.9  │ 9.14  │ 21.6 │\n",
       "│ 3   │ 242 │ 17.8    │ 392.83 │ 4.03  │ 34.7 │\n",
       "│ 4   │ 222 │ 18.7    │ 394.63 │ 2.94  │ 33.4 │\n",
       "│ 5   │ 222 │ 18.7    │ 396.9  │ 5.33  │ 36.2 │"
      ]
     },
     "execution_count": 6,
     "metadata": {},
     "output_type": "execute_result"
    }
   ],
   "source": [
    "head(bos,5)"
   ]
  },
  {
   "cell_type": "code",
   "execution_count": 7,
   "metadata": {},
   "outputs": [
    {
     "data": {
      "text/plain": [
       "DataFrames.DataFrameRegressionModel{GLM.LinearModel{GLM.LmResp{Array{Float64,1}},GLM.DensePredChol{Float64,Base.LinAlg.Cholesky{Float64,Array{Float64,2}}}},Array{Float64,2}}\n",
       "\n",
       "Formula: MedV ~ 1 + LStat + Rm + Dis + Chas + Crim\n",
       "\n",
       "Coefficients:\n",
       "              Estimate Std.Error  t value Pr(>|t|)\n",
       "(Intercept)    2.16889   3.28148 0.660949   0.5089\n",
       "LStat         -0.65435 0.0504212 -12.9777   <1e-32\n",
       "Rm             4.88422  0.434206  11.2486   <1e-25\n",
       "Dis          -0.490096  0.135231 -3.62413   0.0003\n",
       "Chas           3.49103  0.950007  3.67474   0.0003\n",
       "Crim         -0.119994 0.0317739  -3.7765   0.0002\n"
      ]
     },
     "execution_count": 7,
     "metadata": {},
     "output_type": "execute_result"
    }
   ],
   "source": [
    "fm1 = fit(LinearModel, @formula(MedV ~ LStat + Rm + Dis + Chas + Crim), bos)"
   ]
  },
  {
   "cell_type": "code",
   "execution_count": 8,
   "metadata": {},
   "outputs": [
    {
     "data": {
      "text/plain": [
       "14-element Array{Any,1}:\n",
       " [0.25651]\n",
       " [0.0]    \n",
       " [9.69]   \n",
       " [0.0]    \n",
       " [0.538]  \n",
       " [6.2085] \n",
       " [77.5]   \n",
       " [3.20745]\n",
       " [5.0]    \n",
       " [330.0]  \n",
       " [19.05]  \n",
       " [391.44] \n",
       " [11.36]  \n",
       " [21.2]   "
      ]
     },
     "execution_count": 8,
     "metadata": {},
     "output_type": "execute_result"
    }
   ],
   "source": [
    "colwise(median,bos)"
   ]
  },
  {
   "cell_type": "code",
   "execution_count": 9,
   "metadata": {},
   "outputs": [
    {
     "data": {
      "text/plain": [
       "6-element Array{Float64,1}:\n",
       " 3.28148  \n",
       " 0.0504212\n",
       " 0.434206 \n",
       " 0.135231 \n",
       " 0.950007 \n",
       " 0.0317739"
      ]
     },
     "execution_count": 9,
     "metadata": {},
     "output_type": "execute_result"
    }
   ],
   "source": [
    "stderr(fm1)"
   ]
  },
  {
   "cell_type": "code",
   "execution_count": 10,
   "metadata": {},
   "outputs": [
    {
     "data": {
      "text/plain": [
       "6×2 Array{Float64,2}:\n",
       " -4.2783     8.61608  \n",
       " -0.753413  -0.555286 \n",
       "  4.03112    5.73731  \n",
       " -0.755787  -0.224404 \n",
       "  1.62453    5.35753  \n",
       " -0.182421  -0.0575674"
      ]
     },
     "execution_count": 10,
     "metadata": {},
     "output_type": "execute_result"
    }
   ],
   "source": [
    "confint(fm1)"
   ]
  },
  {
   "cell_type": "code",
   "execution_count": 11,
   "metadata": {},
   "outputs": [
    {
     "data": {
      "text/plain": [
       "6-element Array{Float64,1}:\n",
       "  2.16889 \n",
       " -0.65435 \n",
       "  4.88422 \n",
       " -0.490096\n",
       "  3.49103 \n",
       " -0.119994"
      ]
     },
     "execution_count": 11,
     "metadata": {},
     "output_type": "execute_result"
    }
   ],
   "source": [
    "coef(fm1)"
   ]
  },
  {
   "cell_type": "code",
   "execution_count": null,
   "metadata": {},
   "outputs": [],
   "source": []
  }
 ],
 "metadata": {
  "kernelspec": {
   "display_name": "Julia 0.6.0",
   "language": "julia",
   "name": "julia-0.6"
  },
  "language_info": {
   "file_extension": ".jl",
   "mimetype": "application/julia",
   "name": "julia",
   "version": "0.6.0"
  }
 },
 "nbformat": 4,
 "nbformat_minor": 2
}
