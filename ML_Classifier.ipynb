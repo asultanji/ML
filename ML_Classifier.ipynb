{
 "cells": [
  {
   "cell_type": "markdown",
   "metadata": {},
   "source": [
    "## Decision Tree Sample\n",
    "\n",
    "This is the sample data for the decision tree\n",
    "\n",
    "https://github.com/vincentarelbundock/Rdatasets\n",
    "\n",
    "https://vincentarelbundock.github.io/Rdatasets/datasets.html\n",
    "\n",
    "https://github.com/bensadeghi/DecisionTree.jl\n",
    "\n",
    "### Classification Example\n",
    "\n",
    "#### Load RDatasets and DecisionTree packages"
   ]
  },
  {
   "cell_type": "code",
   "execution_count": 14,
   "metadata": {},
   "outputs": [
    {
     "name": "stderr",
     "output_type": "stream",
     "text": [
      "\u001b[1m\u001b[36mINFO: \u001b[39m\u001b[22m\u001b[36mPackage DecisionTree is already installed\n",
      "\u001b[39m\u001b[1m\u001b[36mINFO: \u001b[39m\u001b[22m\u001b[36mMETADATA is out-of-date — you may not have the latest version of DecisionTree\n",
      "\u001b[39m\u001b[1m\u001b[36mINFO: \u001b[39m\u001b[22m\u001b[36mUse `Pkg.update()` to get the latest versions of your packages\n",
      "\u001b[39m\u001b[1m\u001b[36mINFO: \u001b[39m\u001b[22m\u001b[36mPackage RDatasets is already installed\n",
      "\u001b[39m\u001b[1m\u001b[36mINFO: \u001b[39m\u001b[22m\u001b[36mMETADATA is out-of-date — you may not have the latest version of RDatasets\n",
      "\u001b[39m\u001b[1m\u001b[36mINFO: \u001b[39m\u001b[22m\u001b[36mUse `Pkg.update()` to get the latest versions of your packages\n",
      "\u001b[39m"
     ]
    }
   ],
   "source": [
    "Pkg.add(\"DecisionTree\")\n",
    "Pkg.add(\"RDatasets\")"
   ]
  },
  {
   "cell_type": "code",
   "execution_count": 15,
   "metadata": {
    "collapsed": true
   },
   "outputs": [],
   "source": [
    "using DecisionTree\n",
    "using RDatasets"
   ]
  },
  {
   "cell_type": "markdown",
   "metadata": {},
   "source": [
    "### Separate Fisher's Iris dataset features and labels"
   ]
  },
  {
   "cell_type": "code",
   "execution_count": 25,
   "metadata": {
    "collapsed": true
   },
   "outputs": [],
   "source": [
    "iris = dataset(\"datasets\", \"iris\")\n",
    "features = convert(Array, iris[:, 1:4]);\n",
    "labels = convert(Array, iris[:, 5]);"
   ]
  },
  {
   "cell_type": "markdown",
   "metadata": {},
   "source": [
    "### Pruned Tree Classifier"
   ]
  },
  {
   "cell_type": "code",
   "execution_count": 17,
   "metadata": {},
   "outputs": [
    {
     "name": "stdout",
     "output_type": "stream",
     "text": [
      "Feature 3, Threshold 3.0\n",
      "L-> setosa : 50/50\n",
      "R-> Feature 4, Threshold 1.8\n",
      "    L-> Feature 3, Threshold 5.0\n",
      "        L-> versicolor : 47/48\n",
      "        R-> Feature 4, Threshold 1.6\n",
      "            L-> virginica : 3/3\n",
      "            R-> Feature 1, Threshold 7.2\n",
      "                L-> versicolor : 2/2\n",
      "                R-> virginica : 1/1\n",
      "    R-> Feature 3, Threshold 4.9\n",
      "        L-> Feature 1, Threshold 6.0\n",
      "            L-> versicolor : 1/1\n",
      "            R-> virginica : 2/2\n",
      "        R-> virginica : 43/43\n",
      "\n",
      "Fold 1"
     ]
    },
    {
     "data": {
      "text/plain": [
       "3×3 Array{Int64,2}:\n",
       " 21   0   0\n",
       "  0  11   1\n",
       "  0   0  17"
      ]
     },
     "metadata": {},
     "output_type": "display_data"
    },
    {
     "name": "stdout",
     "output_type": "stream",
     "text": [
      "\n",
      "Classes:  String[\"setosa\", \"versicolor\", \"virginica\"]\n",
      "Matrix:   "
     ]
    },
    {
     "data": {
      "text/plain": [
       "3×3 Array{Int64,2}:\n",
       " 10   0   0\n",
       "  1  20   1\n",
       "  0   2  16"
      ]
     },
     "metadata": {},
     "output_type": "display_data"
    },
    {
     "data": {
      "text/plain": [
       "3×3 Array{Int64,2}:\n",
       " 19   0   0\n",
       "  0  14   2\n",
       "  0   3  12"
      ]
     },
     "metadata": {},
     "output_type": "display_data"
    },
    {
     "name": "stdout",
     "output_type": "stream",
     "text": [
      "\n",
      "Accuracy: 0.98\n",
      "Kappa:    0.9691548426896976\n",
      "\n",
      "Fold 2\n",
      "Classes:  String[\"setosa\", \"versicolor\", \"virginica\"]\n",
      "Matrix:   \n",
      "Accuracy: 0.92\n",
      "Kappa:    0.8750000000000001\n",
      "\n",
      "Fold 3\n",
      "Classes:  String[\"setosa\", \"versicolor\", \"virginica\"]\n",
      "Matrix:   \n",
      "Accuracy: 0.9\n",
      "Kappa:    0.8491249245624621\n",
      "\n",
      "Mean Accuracy: 0.9333333333333332\n"
     ]
    },
    {
     "data": {
      "text/plain": [
       "3-element Array{Float64,1}:\n",
       " 0.98\n",
       " 0.92\n",
       " 0.9 "
      ]
     },
     "execution_count": 17,
     "metadata": {},
     "output_type": "execute_result"
    }
   ],
   "source": [
    "# train full-tree classifier\n",
    "model = build_tree(labels, features)\n",
    "# prune tree: merge leaves having >= 90% combined purity (default: 100%)\n",
    "model = prune_tree(model, 0.9)\n",
    "# pretty print of the tree, to a depth of 5 nodes (optional)\n",
    "print_tree(model, 5)\n",
    "# apply learned model\n",
    "apply_tree(model, [5.9,3.0,5.1,1.9])\n",
    "# get the probability of each label\n",
    "apply_tree_proba(model, [5.9,3.0,5.1,1.9], [\"setosa\", \"versicolor\", \"virginica\"])\n",
    "# run n-fold cross validation for pruned tree,\n",
    "# using 90% purity threshold pruning, and 3 CV folds\n",
    "accuracy = nfoldCV_tree(labels, features, 0.9, 3)"
   ]
  },
  {
   "cell_type": "markdown",
   "metadata": {},
   "source": [
    "### ScikitLearn.jl\n",
    "\n",
    "DecisionTree.jl supports the ScikitLearn.jl interface and algorithms (cross-validation, hyperparameter tuning, pipelines, ...)\n",
    "\n",
    "The classifier example above can be rewritten as:"
   ]
  },
  {
   "cell_type": "code",
   "execution_count": 18,
   "metadata": {},
   "outputs": [
    {
     "data": {
      "text/plain": [
       "DecisionTree.DecisionTreeClassifier(Nullable{Float64}(0.9), 0, 6, MersenneTwister(UInt32[0x89c9dc53, 0x586d1466, 0xc9ab2764, 0xe0df138a], Base.dSFMT.DSFMT_state(Int32[859963715, 1072717950, -979364890, 1073304473, 1493797162, 1073511191, 602336344, 1073540208, 1122483103, 1073267778  …  -1042556811, 1073130256, -402223520, 1073265699, 2076029334, -1623647741, 1609144049, 1374115344, 382, 0]), [1.02356, 1.58291, 1.78005, 1.80772, 1.54791, 1.23128, 1.18049, 1.72941, 1.27951, 1.72066  …  1.87663, 1.77232, 1.85521, 1.78891, 1.56134, 1.91732, 1.29019, 1.46083, 1.41676, 1.54593], 52), #undef, #undef)"
      ]
     },
     "execution_count": 18,
     "metadata": {},
     "output_type": "execute_result"
    }
   ],
   "source": [
    "model = DecisionTreeClassifier(pruning_purity_threshold=0.9, maxdepth=6)"
   ]
  },
  {
   "cell_type": "code",
   "execution_count": 19,
   "metadata": {},
   "outputs": [
    {
     "data": {
      "text/plain": [
       "DecisionTree.DecisionTreeClassifier(Nullable{Float64}(0.9), 0, 6, MersenneTwister(UInt32[0x89c9dc53, 0x586d1466, 0xc9ab2764, 0xe0df138a], Base.dSFMT.DSFMT_state(Int32[859963715, 1072717950, -979364890, 1073304473, 1493797162, 1073511191, 602336344, 1073540208, 1122483103, 1073267778  …  -1042556811, 1073130256, -402223520, 1073265699, 2076029334, -1623647741, 1609144049, 1374115344, 382, 0]), [1.02356, 1.58291, 1.78005, 1.80772, 1.54791, 1.23128, 1.18049, 1.72941, 1.27951, 1.72066  …  1.87663, 1.77232, 1.85521, 1.78891, 1.56134, 1.91732, 1.29019, 1.46083, 1.41676, 1.54593], 52), Decision Tree\n",
       "Leaves: 8\n",
       "Depth:  5, String[\"setosa\", \"versicolor\", \"virginica\"])"
      ]
     },
     "execution_count": 19,
     "metadata": {},
     "output_type": "execute_result"
    }
   ],
   "source": [
    "using ScikitLearn: fit!, predict\n",
    "fit!(model, features, labels)"
   ]
  },
  {
   "cell_type": "code",
   "execution_count": 30,
   "metadata": {},
   "outputs": [
    {
     "name": "stdout",
     "output_type": "stream",
     "text": [
      "Decision Tree\n",
      "Leaves: 8\n",
      "Depth:  5"
     ]
    }
   ],
   "source": [
    "# pretty print of the tree, to a depth of 5 nodes (optional)\n",
    "show(model.root)"
   ]
  },
  {
   "cell_type": "code",
   "execution_count": 31,
   "metadata": {},
   "outputs": [
    {
     "name": "stdout",
     "output_type": "stream",
     "text": [
      "Feature 3, Threshold 3.0\n",
      "L-> setosa : 50/50\n",
      "R-> Feature 4, Threshold 1.8\n",
      "    L-> Feature 3, Threshold 5.0\n",
      "        L-> versicolor : 47/48\n",
      "        R-> Feature 4, Threshold 1.6\n",
      "            L-> virginica : 3/3\n",
      "            R-> Feature 1, Threshold 7.2\n",
      "                L-> versicolor : 2/2\n",
      "                R-> virginica : 1/1\n",
      "    R-> Feature 3, Threshold 4.9\n",
      "        L-> Feature 1, Threshold 6.0\n",
      "            L-> versicolor : 1/1\n",
      "            R-> virginica : 2/2\n",
      "        R-> virginica : 43/43\n"
     ]
    }
   ],
   "source": [
    "# pretty print of the tree, to a depth of 5 nodes (optional)\n",
    "print_tree(model.root, 5)"
   ]
  },
  {
   "cell_type": "code",
   "execution_count": 21,
   "metadata": {},
   "outputs": [
    {
     "data": {
      "text/plain": [
       "\"virginica\""
      ]
     },
     "execution_count": 21,
     "metadata": {},
     "output_type": "execute_result"
    }
   ],
   "source": [
    "# apply learned model\n",
    "predict(model, [5.9,3.0,5.1,1.9])"
   ]
  },
  {
   "cell_type": "code",
   "execution_count": 22,
   "metadata": {},
   "outputs": [
    {
     "name": "stdout",
     "output_type": "stream",
     "text": [
      "String[\"setosa\", \"versicolor\", \"virginica\"]\n"
     ]
    }
   ],
   "source": [
    "# get the probability of each label\n",
    "predict_proba(model, [5.9,3.0,5.1,1.9])\n",
    "println(get_classes(model)) # returns the ordering of the columns in predict_proba's output"
   ]
  },
  {
   "cell_type": "code",
   "execution_count": 23,
   "metadata": {},
   "outputs": [
    {
     "data": {
      "text/plain": [
       "3-element Array{Float64,1}:\n",
       " 0.980392\n",
       " 0.901961\n",
       " 0.958333"
      ]
     },
     "execution_count": 23,
     "metadata": {},
     "output_type": "execute_result"
    }
   ],
   "source": [
    "# run n-fold cross validation over 3 CV folds\n",
    "# See ScikitLearn.jl for installation instructions\n",
    "using ScikitLearn.CrossValidation: cross_val_score\n",
    "accuracy = cross_val_score(model, features, labels, cv=3)"
   ]
  }
 ],
 "metadata": {
  "kernelspec": {
   "display_name": "Julia 0.6.0",
   "language": "julia",
   "name": "julia-0.6"
  },
  "language_info": {
   "file_extension": ".jl",
   "mimetype": "application/julia",
   "name": "julia",
   "version": "0.6.0"
  }
 },
 "nbformat": 4,
 "nbformat_minor": 2
}
